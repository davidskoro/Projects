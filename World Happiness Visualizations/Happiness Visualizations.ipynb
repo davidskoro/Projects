{
 "cells": [
  {
   "cell_type": "code",
   "execution_count": 1,
   "metadata": {},
   "outputs": [],
   "source": [
    "###########################################################\n",
    "# Data From https://www.kaggle.com/unsdsn/world-happiness #\n",
    "###########################################################\n",
    "# Created visualizations and conducted analysis on world  #\n",
    "# happiness data.                                         #\n",
    "###########################################################"
   ]
  },
  {
   "cell_type": "code",
   "execution_count": 2,
   "metadata": {},
   "outputs": [],
   "source": [
    "import pandas as pd\n",
    "import matplotlib.pyplot as plt"
   ]
  },
  {
   "cell_type": "code",
   "execution_count": 3,
   "metadata": {},
   "outputs": [],
   "source": [
    "# all years within the excel datasheet\n",
    "years=['2015','2016','2017','2018','2019']"
   ]
  },
  {
   "cell_type": "code",
   "execution_count": 4,
   "metadata": {},
   "outputs": [
    {
     "name": "stdout",
     "output_type": "stream",
     "text": [
      "2015\n",
      "(158, 10)\n",
      "2016\n",
      "(157, 10)\n",
      "2017\n",
      "(155, 10)\n",
      "2018\n",
      "(156, 10)\n",
      "2019\n",
      "(156, 10)\n"
     ]
    }
   ],
   "source": [
    "# create an empty dataframe to store the happiness data\n",
    "happy=pd.DataFrame()\n",
    "\n",
    "# loop through to find the years and concatanate\n",
    "for year in years:\n",
    "    print(year)\n",
    "    data=pd.read_excel('WorldHappiness.xls',year)\n",
    "    data['year']=year\n",
    "    print(data.shape)\n",
    "    happy=pd.concat([happy,data])"
   ]
  },
  {
   "cell_type": "code",
   "execution_count": 5,
   "metadata": {},
   "outputs": [
    {
     "data": {
      "text/plain": [
       "(782, 10)"
      ]
     },
     "execution_count": 5,
     "metadata": {},
     "output_type": "execute_result"
    }
   ],
   "source": [
    "happy.shape"
   ]
  },
  {
   "cell_type": "code",
   "execution_count": 6,
   "metadata": {},
   "outputs": [
    {
     "data": {
      "text/html": [
       "<div>\n",
       "<style scoped>\n",
       "    .dataframe tbody tr th:only-of-type {\n",
       "        vertical-align: middle;\n",
       "    }\n",
       "\n",
       "    .dataframe tbody tr th {\n",
       "        vertical-align: top;\n",
       "    }\n",
       "\n",
       "    .dataframe thead th {\n",
       "        text-align: right;\n",
       "    }\n",
       "</style>\n",
       "<table border=\"1\" class=\"dataframe\">\n",
       "  <thead>\n",
       "    <tr style=\"text-align: right;\">\n",
       "      <th></th>\n",
       "      <th>Rank</th>\n",
       "      <th>Country</th>\n",
       "      <th>Happiness Score</th>\n",
       "      <th>GDP per capita</th>\n",
       "      <th>Social Support</th>\n",
       "      <th>Healthy life expectancy</th>\n",
       "      <th>Freedom</th>\n",
       "      <th>Generosity</th>\n",
       "      <th>Corruption</th>\n",
       "      <th>year</th>\n",
       "    </tr>\n",
       "  </thead>\n",
       "  <tbody>\n",
       "    <tr>\n",
       "      <th>151</th>\n",
       "      <td>152</td>\n",
       "      <td>Rwanda</td>\n",
       "      <td>3.334</td>\n",
       "      <td>0.359</td>\n",
       "      <td>0.711</td>\n",
       "      <td>0.614</td>\n",
       "      <td>0.555</td>\n",
       "      <td>0.217</td>\n",
       "      <td>0.411</td>\n",
       "      <td>2019</td>\n",
       "    </tr>\n",
       "    <tr>\n",
       "      <th>152</th>\n",
       "      <td>153</td>\n",
       "      <td>Tanzania</td>\n",
       "      <td>3.231</td>\n",
       "      <td>0.476</td>\n",
       "      <td>0.885</td>\n",
       "      <td>0.499</td>\n",
       "      <td>0.417</td>\n",
       "      <td>0.276</td>\n",
       "      <td>0.147</td>\n",
       "      <td>2019</td>\n",
       "    </tr>\n",
       "    <tr>\n",
       "      <th>153</th>\n",
       "      <td>154</td>\n",
       "      <td>Afghanistan</td>\n",
       "      <td>3.203</td>\n",
       "      <td>0.350</td>\n",
       "      <td>0.517</td>\n",
       "      <td>0.361</td>\n",
       "      <td>0.000</td>\n",
       "      <td>0.158</td>\n",
       "      <td>0.025</td>\n",
       "      <td>2019</td>\n",
       "    </tr>\n",
       "    <tr>\n",
       "      <th>154</th>\n",
       "      <td>155</td>\n",
       "      <td>Central African Republic</td>\n",
       "      <td>3.083</td>\n",
       "      <td>0.026</td>\n",
       "      <td>0.000</td>\n",
       "      <td>0.105</td>\n",
       "      <td>0.225</td>\n",
       "      <td>0.235</td>\n",
       "      <td>0.035</td>\n",
       "      <td>2019</td>\n",
       "    </tr>\n",
       "    <tr>\n",
       "      <th>155</th>\n",
       "      <td>156</td>\n",
       "      <td>South Sudan</td>\n",
       "      <td>2.853</td>\n",
       "      <td>0.306</td>\n",
       "      <td>0.575</td>\n",
       "      <td>0.295</td>\n",
       "      <td>0.010</td>\n",
       "      <td>0.202</td>\n",
       "      <td>0.091</td>\n",
       "      <td>2019</td>\n",
       "    </tr>\n",
       "  </tbody>\n",
       "</table>\n",
       "</div>"
      ],
      "text/plain": [
       "     Rank                   Country  Happiness Score  GDP per capita  \\\n",
       "151   152                    Rwanda            3.334           0.359   \n",
       "152   153                  Tanzania            3.231           0.476   \n",
       "153   154               Afghanistan            3.203           0.350   \n",
       "154   155  Central African Republic            3.083           0.026   \n",
       "155   156               South Sudan            2.853           0.306   \n",
       "\n",
       "     Social Support  Healthy life expectancy  Freedom  Generosity  Corruption  \\\n",
       "151           0.711                    0.614    0.555       0.217       0.411   \n",
       "152           0.885                    0.499    0.417       0.276       0.147   \n",
       "153           0.517                    0.361    0.000       0.158       0.025   \n",
       "154           0.000                    0.105    0.225       0.235       0.035   \n",
       "155           0.575                    0.295    0.010       0.202       0.091   \n",
       "\n",
       "     year  \n",
       "151  2019  \n",
       "152  2019  \n",
       "153  2019  \n",
       "154  2019  \n",
       "155  2019  "
      ]
     },
     "execution_count": 6,
     "metadata": {},
     "output_type": "execute_result"
    }
   ],
   "source": [
    "happy.tail()"
   ]
  },
  {
   "cell_type": "code",
   "execution_count": 7,
   "metadata": {},
   "outputs": [],
   "source": [
    "# create new dataframe with selected columns\n",
    "happyscore=pd.DataFrame()\n",
    "happyscore['year']=happy['year']\n",
    "happyscore['country']=happy['Country']\n",
    "happyscore['score']=happy['Happiness Score']\n",
    "happyscore['GDP']=happy['GDP per capita']"
   ]
  },
  {
   "cell_type": "code",
   "execution_count": 8,
   "metadata": {},
   "outputs": [
    {
     "data": {
      "text/html": [
       "<div>\n",
       "<style scoped>\n",
       "    .dataframe tbody tr th:only-of-type {\n",
       "        vertical-align: middle;\n",
       "    }\n",
       "\n",
       "    .dataframe tbody tr th {\n",
       "        vertical-align: top;\n",
       "    }\n",
       "\n",
       "    .dataframe thead th {\n",
       "        text-align: right;\n",
       "    }\n",
       "</style>\n",
       "<table border=\"1\" class=\"dataframe\">\n",
       "  <thead>\n",
       "    <tr style=\"text-align: right;\">\n",
       "      <th></th>\n",
       "      <th>year</th>\n",
       "      <th>country</th>\n",
       "      <th>score</th>\n",
       "      <th>GDP</th>\n",
       "    </tr>\n",
       "  </thead>\n",
       "  <tbody>\n",
       "    <tr>\n",
       "      <th>0</th>\n",
       "      <td>2015</td>\n",
       "      <td>Switzerland</td>\n",
       "      <td>7.587</td>\n",
       "      <td>1.39651</td>\n",
       "    </tr>\n",
       "    <tr>\n",
       "      <th>1</th>\n",
       "      <td>2015</td>\n",
       "      <td>Iceland</td>\n",
       "      <td>7.561</td>\n",
       "      <td>1.30232</td>\n",
       "    </tr>\n",
       "    <tr>\n",
       "      <th>2</th>\n",
       "      <td>2015</td>\n",
       "      <td>Denmark</td>\n",
       "      <td>7.527</td>\n",
       "      <td>1.32548</td>\n",
       "    </tr>\n",
       "    <tr>\n",
       "      <th>3</th>\n",
       "      <td>2015</td>\n",
       "      <td>Norway</td>\n",
       "      <td>7.522</td>\n",
       "      <td>1.45900</td>\n",
       "    </tr>\n",
       "    <tr>\n",
       "      <th>4</th>\n",
       "      <td>2015</td>\n",
       "      <td>Canada</td>\n",
       "      <td>7.427</td>\n",
       "      <td>1.32629</td>\n",
       "    </tr>\n",
       "  </tbody>\n",
       "</table>\n",
       "</div>"
      ],
      "text/plain": [
       "   year      country  score      GDP\n",
       "0  2015  Switzerland  7.587  1.39651\n",
       "1  2015      Iceland  7.561  1.30232\n",
       "2  2015      Denmark  7.527  1.32548\n",
       "3  2015       Norway  7.522  1.45900\n",
       "4  2015       Canada  7.427  1.32629"
      ]
     },
     "execution_count": 8,
     "metadata": {},
     "output_type": "execute_result"
    }
   ],
   "source": [
    "happyscore.head()"
   ]
  },
  {
   "cell_type": "code",
   "execution_count": 9,
   "metadata": {},
   "outputs": [
    {
     "data": {
      "text/plain": [
       "Text(0.5, 1.0, 'Generosity vs Freedom')"
      ]
     },
     "execution_count": 9,
     "metadata": {},
     "output_type": "execute_result"
    },
    {
     "data": {
      "image/png": "[encoded data removed]",
      "text/plain": [
       "<Figure size 1008x864 with 4 Axes>"
      ]
     },
     "metadata": {
      "needs_background": "light"
     },
     "output_type": "display_data"
    }
   ],
   "source": [
    "# Set plot sizes and location\n",
    "plt.figure(figsize=(14,12))\n",
    "ax1=plt.subplot(2,2,1)\n",
    "ax2=plt.subplot(2,2,2)\n",
    "ax3=plt.subplot(2,2,3)\n",
    "ax4=plt.subplot(2,2,4)\n",
    "\n",
    "# generate scatter plot comparing happiness score and gdp per capita\n",
    "gdpaxes=happyscore.plot.scatter('score','GDP', ax=ax1)\n",
    "gdpaxes.set_title('Happiness Score vs GDP Per Capita')\n",
    "gdpaxes.set_xlabel('Happiness Score')\n",
    "gdpaxes.set_ylabel('GDP Per Capita')\n",
    "\n",
    "# generate scatter plot comparing happiness score and life expectency\n",
    "lifeaxes=happy.plot.scatter('Happiness Score','Healthy life expectancy', ax=ax2)\n",
    "lifeaxes.set_title('Happiness Score vs Healthy Life Expectency')\n",
    "\n",
    "# generate scatter plot comparing corruption to genoristy (Higher corruption value= lower corruption)\n",
    "corgen=happy.plot.scatter('Generosity', 'Corruption', ax=ax3)\n",
    "corgen.set_title('Generosity vs Corruption')\n",
    "\n",
    "# generate scatter plot comparing freedom to generosity\n",
    "freegen=happy.plot.scatter('Generosity', 'Freedom', ax=ax4)\n",
    "freegen.set_title('Generosity vs Freedom')"
   ]
  },
  {
   "cell_type": "code",
   "execution_count": 10,
   "metadata": {},
   "outputs": [
    {
     "data": {
      "text/html": [
       "<div>\n",
       "<style scoped>\n",
       "    .dataframe tbody tr th:only-of-type {\n",
       "        vertical-align: middle;\n",
       "    }\n",
       "\n",
       "    .dataframe tbody tr th {\n",
       "        vertical-align: top;\n",
       "    }\n",
       "\n",
       "    .dataframe thead th {\n",
       "        text-align: right;\n",
       "    }\n",
       "</style>\n",
       "<table border=\"1\" class=\"dataframe\">\n",
       "  <thead>\n",
       "    <tr style=\"text-align: right;\">\n",
       "      <th></th>\n",
       "      <th>Rank</th>\n",
       "      <th>Country</th>\n",
       "      <th>Happiness Score</th>\n",
       "      <th>GDP per capita</th>\n",
       "      <th>Social Support</th>\n",
       "      <th>Healthy life expectancy</th>\n",
       "      <th>Freedom</th>\n",
       "      <th>Generosity</th>\n",
       "      <th>Corruption</th>\n",
       "      <th>year</th>\n",
       "    </tr>\n",
       "  </thead>\n",
       "  <tbody>\n",
       "    <tr>\n",
       "      <th>14</th>\n",
       "      <td>15</td>\n",
       "      <td>United States</td>\n",
       "      <td>7.119</td>\n",
       "      <td>1.394510</td>\n",
       "      <td>1.247110</td>\n",
       "      <td>0.861790</td>\n",
       "      <td>0.546040</td>\n",
       "      <td>0.401050</td>\n",
       "      <td>0.158900</td>\n",
       "      <td>2015</td>\n",
       "    </tr>\n",
       "    <tr>\n",
       "      <th>12</th>\n",
       "      <td>13</td>\n",
       "      <td>United States</td>\n",
       "      <td>7.104</td>\n",
       "      <td>1.507960</td>\n",
       "      <td>1.047820</td>\n",
       "      <td>0.779000</td>\n",
       "      <td>0.481630</td>\n",
       "      <td>0.410770</td>\n",
       "      <td>0.148680</td>\n",
       "      <td>2016</td>\n",
       "    </tr>\n",
       "    <tr>\n",
       "      <th>13</th>\n",
       "      <td>14</td>\n",
       "      <td>United States</td>\n",
       "      <td>6.993</td>\n",
       "      <td>1.546259</td>\n",
       "      <td>1.419921</td>\n",
       "      <td>0.774287</td>\n",
       "      <td>0.505741</td>\n",
       "      <td>0.392579</td>\n",
       "      <td>0.135639</td>\n",
       "      <td>2017</td>\n",
       "    </tr>\n",
       "    <tr>\n",
       "      <th>17</th>\n",
       "      <td>18</td>\n",
       "      <td>United States</td>\n",
       "      <td>6.886</td>\n",
       "      <td>1.398000</td>\n",
       "      <td>1.471000</td>\n",
       "      <td>0.819000</td>\n",
       "      <td>0.547000</td>\n",
       "      <td>0.291000</td>\n",
       "      <td>0.133000</td>\n",
       "      <td>2018</td>\n",
       "    </tr>\n",
       "    <tr>\n",
       "      <th>18</th>\n",
       "      <td>19</td>\n",
       "      <td>United States</td>\n",
       "      <td>6.892</td>\n",
       "      <td>1.433000</td>\n",
       "      <td>1.457000</td>\n",
       "      <td>0.874000</td>\n",
       "      <td>0.454000</td>\n",
       "      <td>0.280000</td>\n",
       "      <td>0.128000</td>\n",
       "      <td>2019</td>\n",
       "    </tr>\n",
       "  </tbody>\n",
       "</table>\n",
       "</div>"
      ],
      "text/plain": [
       "    Rank        Country  Happiness Score  GDP per capita  Social Support  \\\n",
       "14    15  United States            7.119        1.394510        1.247110   \n",
       "12    13  United States            7.104        1.507960        1.047820   \n",
       "13    14  United States            6.993        1.546259        1.419921   \n",
       "17    18  United States            6.886        1.398000        1.471000   \n",
       "18    19  United States            6.892        1.433000        1.457000   \n",
       "\n",
       "    Healthy life expectancy   Freedom  Generosity  Corruption  year  \n",
       "14                 0.861790  0.546040    0.401050    0.158900  2015  \n",
       "12                 0.779000  0.481630    0.410770    0.148680  2016  \n",
       "13                 0.774287  0.505741    0.392579    0.135639  2017  \n",
       "17                 0.819000  0.547000    0.291000    0.133000  2018  \n",
       "18                 0.874000  0.454000    0.280000    0.128000  2019  "
      ]
     },
     "execution_count": 10,
     "metadata": {},
     "output_type": "execute_result"
    }
   ],
   "source": [
    "# Locate a specific country\n",
    "happy.loc[happy.Country=='United States', :]"
   ]
  },
  {
   "cell_type": "code",
   "execution_count": 11,
   "metadata": {},
   "outputs": [
    {
     "data": {
      "text/plain": [
       "Text(0, 0.5, 'Happiness Score')"
      ]
     },
     "execution_count": 11,
     "metadata": {},
     "output_type": "execute_result"
    },
    {
     "data": {
      "image/png": "[encoded data removed]",
      "text/plain": [
       "<Figure size 432x288 with 1 Axes>"
      ]
     },
     "metadata": {
      "needs_background": "light"
     },
     "output_type": "display_data"
    }
   ],
   "source": [
    "# create Happines over Time in the United States Graph\n",
    "happyus=happy.loc[happy.Country=='United States', :]\n",
    "usgraph=happyus.plot.line('year', 'Happiness Score', ylim=(6.5, 7.5))\n",
    "usgraph.set_title(\"Happiness Score Over Time U.S.A\")\n",
    "usgraph.set_xlabel('Year')\n",
    "usgraph.set_ylabel('Happiness Score')"
   ]
  },
  {
   "cell_type": "code",
   "execution_count": 12,
   "metadata": {},
   "outputs": [
    {
     "data": {
      "text/html": [
       "<div>\n",
       "<style scoped>\n",
       "    .dataframe tbody tr th:only-of-type {\n",
       "        vertical-align: middle;\n",
       "    }\n",
       "\n",
       "    .dataframe tbody tr th {\n",
       "        vertical-align: top;\n",
       "    }\n",
       "\n",
       "    .dataframe thead th {\n",
       "        text-align: right;\n",
       "    }\n",
       "</style>\n",
       "<table border=\"1\" class=\"dataframe\">\n",
       "  <thead>\n",
       "    <tr style=\"text-align: right;\">\n",
       "      <th></th>\n",
       "      <th>year</th>\n",
       "      <th>HappyScore</th>\n",
       "    </tr>\n",
       "  </thead>\n",
       "  <tbody>\n",
       "    <tr>\n",
       "      <th>0</th>\n",
       "      <td>2015</td>\n",
       "      <td>7.587</td>\n",
       "    </tr>\n",
       "    <tr>\n",
       "      <th>1</th>\n",
       "      <td>2015</td>\n",
       "      <td>7.561</td>\n",
       "    </tr>\n",
       "    <tr>\n",
       "      <th>2</th>\n",
       "      <td>2015</td>\n",
       "      <td>7.527</td>\n",
       "    </tr>\n",
       "    <tr>\n",
       "      <th>3</th>\n",
       "      <td>2015</td>\n",
       "      <td>7.522</td>\n",
       "    </tr>\n",
       "    <tr>\n",
       "      <th>4</th>\n",
       "      <td>2015</td>\n",
       "      <td>7.427</td>\n",
       "    </tr>\n",
       "  </tbody>\n",
       "</table>\n",
       "</div>"
      ],
      "text/plain": [
       "   year  HappyScore\n",
       "0  2015       7.587\n",
       "1  2015       7.561\n",
       "2  2015       7.527\n",
       "3  2015       7.522\n",
       "4  2015       7.427"
      ]
     },
     "execution_count": 12,
     "metadata": {},
     "output_type": "execute_result"
    }
   ],
   "source": [
    "# Create new data frame for average global happiness\n",
    "happyavgg=pd.DataFrame()\n",
    "happyavgg['year']=happy['year']\n",
    "happyavgg['HappyScore']=happy['Happiness Score']\n",
    "happyavgg.head()"
   ]
  },
  {
   "cell_type": "code",
   "execution_count": 13,
   "metadata": {},
   "outputs": [
    {
     "data": {
      "text/html": [
       "<div>\n",
       "<style scoped>\n",
       "    .dataframe tbody tr th:only-of-type {\n",
       "        vertical-align: middle;\n",
       "    }\n",
       "\n",
       "    .dataframe tbody tr th {\n",
       "        vertical-align: top;\n",
       "    }\n",
       "\n",
       "    .dataframe thead th {\n",
       "        text-align: right;\n",
       "    }\n",
       "</style>\n",
       "<table border=\"1\" class=\"dataframe\">\n",
       "  <thead>\n",
       "    <tr style=\"text-align: right;\">\n",
       "      <th></th>\n",
       "      <th>HappyScore</th>\n",
       "    </tr>\n",
       "    <tr>\n",
       "      <th>year</th>\n",
       "      <th></th>\n",
       "    </tr>\n",
       "  </thead>\n",
       "  <tbody>\n",
       "    <tr>\n",
       "      <th>2015</th>\n",
       "      <td>5.375734</td>\n",
       "    </tr>\n",
       "    <tr>\n",
       "      <th>2016</th>\n",
       "      <td>5.382185</td>\n",
       "    </tr>\n",
       "    <tr>\n",
       "      <th>2017</th>\n",
       "      <td>5.354019</td>\n",
       "    </tr>\n",
       "    <tr>\n",
       "      <th>2018</th>\n",
       "      <td>5.375917</td>\n",
       "    </tr>\n",
       "    <tr>\n",
       "      <th>2019</th>\n",
       "      <td>5.407096</td>\n",
       "    </tr>\n",
       "  </tbody>\n",
       "</table>\n",
       "</div>"
      ],
      "text/plain": [
       "      HappyScore\n",
       "year            \n",
       "2015    5.375734\n",
       "2016    5.382185\n",
       "2017    5.354019\n",
       "2018    5.375917\n",
       "2019    5.407096"
      ]
     },
     "execution_count": 13,
     "metadata": {},
     "output_type": "execute_result"
    }
   ],
   "source": [
    "# group by year to display average global happiness by year\n",
    "happyavg=happyavgg.groupby('year').mean()\n",
    "happyavg.head()"
   ]
  },
  {
   "cell_type": "code",
   "execution_count": 14,
   "metadata": {},
   "outputs": [
    {
     "data": {
      "text/plain": [
       "Text(0, 0.5, 'Happiness Score')"
      ]
     },
     "execution_count": 14,
     "metadata": {},
     "output_type": "execute_result"
    },
    {
     "data": {
      "image/png": "[encoded data removed]",
      "text/plain": [
       "<Figure size 432x288 with 1 Axes>"
      ]
     },
     "metadata": {
      "needs_background": "light"
     },
     "output_type": "display_data"
    }
   ],
   "source": [
    "# create a line graph to track global happiness over time\n",
    "happyavggraph=happyavg.plot.line(ylim=(5, 6))\n",
    "happyavggraph.set_title(\"Average Global Happiness Over Time\")\n",
    "happyavggraph.set_xlabel(\"Year\")\n",
    "happyavggraph.set_ylabel(\"Happiness Score\")"
   ]
  },
  {
   "cell_type": "code",
   "execution_count": 15,
   "metadata": {},
   "outputs": [
    {
     "data": {
      "text/html": [
       "<div>\n",
       "<style scoped>\n",
       "    .dataframe tbody tr th:only-of-type {\n",
       "        vertical-align: middle;\n",
       "    }\n",
       "\n",
       "    .dataframe tbody tr th {\n",
       "        vertical-align: top;\n",
       "    }\n",
       "\n",
       "    .dataframe thead th {\n",
       "        text-align: right;\n",
       "    }\n",
       "</style>\n",
       "<table border=\"1\" class=\"dataframe\">\n",
       "  <thead>\n",
       "    <tr style=\"text-align: right;\">\n",
       "      <th></th>\n",
       "      <th>Year</th>\n",
       "      <th>USA Happiness</th>\n",
       "    </tr>\n",
       "  </thead>\n",
       "  <tbody>\n",
       "    <tr>\n",
       "      <th>14</th>\n",
       "      <td>2015</td>\n",
       "      <td>7.119</td>\n",
       "    </tr>\n",
       "    <tr>\n",
       "      <th>12</th>\n",
       "      <td>2016</td>\n",
       "      <td>7.104</td>\n",
       "    </tr>\n",
       "    <tr>\n",
       "      <th>13</th>\n",
       "      <td>2017</td>\n",
       "      <td>6.993</td>\n",
       "    </tr>\n",
       "    <tr>\n",
       "      <th>17</th>\n",
       "      <td>2018</td>\n",
       "      <td>6.886</td>\n",
       "    </tr>\n",
       "    <tr>\n",
       "      <th>18</th>\n",
       "      <td>2019</td>\n",
       "      <td>6.892</td>\n",
       "    </tr>\n",
       "  </tbody>\n",
       "</table>\n",
       "</div>"
      ],
      "text/plain": [
       "    Year  USA Happiness\n",
       "14  2015          7.119\n",
       "12  2016          7.104\n",
       "13  2017          6.993\n",
       "17  2018          6.886\n",
       "18  2019          6.892"
      ]
     },
     "execution_count": 15,
     "metadata": {},
     "output_type": "execute_result"
    }
   ],
   "source": [
    "# create a dataframe with USA happiness averages for each year\n",
    "happyusa=pd.DataFrame()\n",
    "happyusa['Year']=happyus['year']\n",
    "happyusa['USA Happiness']=happyus['Happiness Score']\n",
    "happyusa.head()"
   ]
  },
  {
   "cell_type": "code",
   "execution_count": 16,
   "metadata": {},
   "outputs": [
    {
     "data": {
      "text/html": [
       "<div>\n",
       "<style scoped>\n",
       "    .dataframe tbody tr th:only-of-type {\n",
       "        vertical-align: middle;\n",
       "    }\n",
       "\n",
       "    .dataframe tbody tr th {\n",
       "        vertical-align: top;\n",
       "    }\n",
       "\n",
       "    .dataframe thead th {\n",
       "        text-align: right;\n",
       "    }\n",
       "</style>\n",
       "<table border=\"1\" class=\"dataframe\">\n",
       "  <thead>\n",
       "    <tr style=\"text-align: right;\">\n",
       "      <th></th>\n",
       "      <th>HappyScore</th>\n",
       "    </tr>\n",
       "    <tr>\n",
       "      <th>year</th>\n",
       "      <th></th>\n",
       "    </tr>\n",
       "  </thead>\n",
       "  <tbody>\n",
       "    <tr>\n",
       "      <th>2015</th>\n",
       "      <td>5.375734</td>\n",
       "    </tr>\n",
       "    <tr>\n",
       "      <th>2016</th>\n",
       "      <td>5.382185</td>\n",
       "    </tr>\n",
       "    <tr>\n",
       "      <th>2017</th>\n",
       "      <td>5.354019</td>\n",
       "    </tr>\n",
       "    <tr>\n",
       "      <th>2018</th>\n",
       "      <td>5.375917</td>\n",
       "    </tr>\n",
       "    <tr>\n",
       "      <th>2019</th>\n",
       "      <td>5.407096</td>\n",
       "    </tr>\n",
       "  </tbody>\n",
       "</table>\n",
       "</div>"
      ],
      "text/plain": [
       "      HappyScore\n",
       "year            \n",
       "2015    5.375734\n",
       "2016    5.382185\n",
       "2017    5.354019\n",
       "2018    5.375917\n",
       "2019    5.407096"
      ]
     },
     "execution_count": 16,
     "metadata": {},
     "output_type": "execute_result"
    }
   ],
   "source": [
    "# dataframe from average global happiness for each year\n",
    "happyavgcompare=pd.DataFrame(happyavg)\n",
    "happyavgcompare.head()"
   ]
  },
  {
   "cell_type": "code",
   "execution_count": 17,
   "metadata": {},
   "outputs": [
    {
     "data": {
      "text/html": [
       "<div>\n",
       "<style scoped>\n",
       "    .dataframe tbody tr th:only-of-type {\n",
       "        vertical-align: middle;\n",
       "    }\n",
       "\n",
       "    .dataframe tbody tr th {\n",
       "        vertical-align: top;\n",
       "    }\n",
       "\n",
       "    .dataframe thead th {\n",
       "        text-align: right;\n",
       "    }\n",
       "</style>\n",
       "<table border=\"1\" class=\"dataframe\">\n",
       "  <thead>\n",
       "    <tr style=\"text-align: right;\">\n",
       "      <th></th>\n",
       "      <th>USA Happiness</th>\n",
       "      <th>Global Happiness</th>\n",
       "    </tr>\n",
       "    <tr>\n",
       "      <th>Year</th>\n",
       "      <th></th>\n",
       "      <th></th>\n",
       "    </tr>\n",
       "  </thead>\n",
       "  <tbody>\n",
       "    <tr>\n",
       "      <th>2015</th>\n",
       "      <td>7.119</td>\n",
       "      <td>5.375734</td>\n",
       "    </tr>\n",
       "    <tr>\n",
       "      <th>2016</th>\n",
       "      <td>7.104</td>\n",
       "      <td>5.382185</td>\n",
       "    </tr>\n",
       "    <tr>\n",
       "      <th>2017</th>\n",
       "      <td>6.993</td>\n",
       "      <td>5.354019</td>\n",
       "    </tr>\n",
       "    <tr>\n",
       "      <th>2018</th>\n",
       "      <td>6.886</td>\n",
       "      <td>5.375917</td>\n",
       "    </tr>\n",
       "    <tr>\n",
       "      <th>2019</th>\n",
       "      <td>6.892</td>\n",
       "      <td>5.407096</td>\n",
       "    </tr>\n",
       "  </tbody>\n",
       "</table>\n",
       "</div>"
      ],
      "text/plain": [
       "      USA Happiness  Global Happiness\n",
       "Year                                 \n",
       "2015          7.119          5.375734\n",
       "2016          7.104          5.382185\n",
       "2017          6.993          5.354019\n",
       "2018          6.886          5.375917\n",
       "2019          6.892          5.407096"
      ]
     },
     "execution_count": 17,
     "metadata": {},
     "output_type": "execute_result"
    }
   ],
   "source": [
    "# combine happiness values from USA and global average for each year\n",
    "happyyear=happyusa.groupby('Year').mean()\n",
    "avguscompare=pd.DataFrame(happyyear)\n",
    "avguscompare['Global Happiness']=happyavgcompare['HappyScore']\n",
    "avguscompare.head()"
   ]
  },
  {
   "cell_type": "code",
   "execution_count": 18,
   "metadata": {},
   "outputs": [
    {
     "data": {
      "text/plain": [
       "Text(0, 0.5, 'Happiness Score')"
      ]
     },
     "execution_count": 18,
     "metadata": {},
     "output_type": "execute_result"
    },
    {
     "data": {
      "image/png": "[encoded data removed]",
      "text/plain": [
       "<Figure size 432x288 with 1 Axes>"
      ]
     },
     "metadata": {
      "needs_background": "light"
     },
     "output_type": "display_data"
    }
   ],
   "source": [
    "# Set graph parameters and labels\n",
    "globalus=avguscompare.plot.line(ylim=(5, 7.5))\n",
    "globalus.set_title('Happiness Over Time')\n",
    "globalus.set_ylabel('Happiness Score')"
   ]
  },
  {
   "cell_type": "code",
   "execution_count": 19,
   "metadata": {},
   "outputs": [
    {
     "data": {
      "text/html": [
       "<div>\n",
       "<style scoped>\n",
       "    .dataframe tbody tr th:only-of-type {\n",
       "        vertical-align: middle;\n",
       "    }\n",
       "\n",
       "    .dataframe tbody tr th {\n",
       "        vertical-align: top;\n",
       "    }\n",
       "\n",
       "    .dataframe thead th {\n",
       "        text-align: right;\n",
       "    }\n",
       "</style>\n",
       "<table border=\"1\" class=\"dataframe\">\n",
       "  <thead>\n",
       "    <tr style=\"text-align: right;\">\n",
       "      <th></th>\n",
       "      <th>Year</th>\n",
       "      <th>Burundi Happiness</th>\n",
       "    </tr>\n",
       "  </thead>\n",
       "  <tbody>\n",
       "    <tr>\n",
       "      <th>156</th>\n",
       "      <td>2015</td>\n",
       "      <td>2.905</td>\n",
       "    </tr>\n",
       "    <tr>\n",
       "      <th>156</th>\n",
       "      <td>2016</td>\n",
       "      <td>2.905</td>\n",
       "    </tr>\n",
       "    <tr>\n",
       "      <th>153</th>\n",
       "      <td>2017</td>\n",
       "      <td>2.905</td>\n",
       "    </tr>\n",
       "    <tr>\n",
       "      <th>155</th>\n",
       "      <td>2018</td>\n",
       "      <td>2.905</td>\n",
       "    </tr>\n",
       "    <tr>\n",
       "      <th>144</th>\n",
       "      <td>2019</td>\n",
       "      <td>3.775</td>\n",
       "    </tr>\n",
       "  </tbody>\n",
       "</table>\n",
       "</div>"
      ],
      "text/plain": [
       "     Year  Burundi Happiness\n",
       "156  2015              2.905\n",
       "156  2016              2.905\n",
       "153  2017              2.905\n",
       "155  2018              2.905\n",
       "144  2019              3.775"
      ]
     },
     "execution_count": 19,
     "metadata": {},
     "output_type": "execute_result"
    }
   ],
   "source": [
    "# locate only Finland values, include year and happiness score\n",
    "# Burundi has the lowest average happiness score over the past 5 years\n",
    "happybur=happy.loc[happy.Country=='Burundi', :]\n",
    "happyburundi=pd.DataFrame()\n",
    "happyburundi['Year']=happybur['year']\n",
    "happyburundi['Burundi Happiness']=happybur['Happiness Score']\n",
    "happyburundi.head()"
   ]
  },
  {
   "cell_type": "code",
   "execution_count": 20,
   "metadata": {},
   "outputs": [
    {
     "data": {
      "text/html": [
       "<div>\n",
       "<style scoped>\n",
       "    .dataframe tbody tr th:only-of-type {\n",
       "        vertical-align: middle;\n",
       "    }\n",
       "\n",
       "    .dataframe tbody tr th {\n",
       "        vertical-align: top;\n",
       "    }\n",
       "\n",
       "    .dataframe thead th {\n",
       "        text-align: right;\n",
       "    }\n",
       "</style>\n",
       "<table border=\"1\" class=\"dataframe\">\n",
       "  <thead>\n",
       "    <tr style=\"text-align: right;\">\n",
       "      <th></th>\n",
       "      <th>Year</th>\n",
       "      <th>Denmark Happiness</th>\n",
       "    </tr>\n",
       "  </thead>\n",
       "  <tbody>\n",
       "    <tr>\n",
       "      <th>2</th>\n",
       "      <td>2015</td>\n",
       "      <td>7.527</td>\n",
       "    </tr>\n",
       "    <tr>\n",
       "      <th>0</th>\n",
       "      <td>2016</td>\n",
       "      <td>7.526</td>\n",
       "    </tr>\n",
       "    <tr>\n",
       "      <th>1</th>\n",
       "      <td>2017</td>\n",
       "      <td>7.522</td>\n",
       "    </tr>\n",
       "    <tr>\n",
       "      <th>2</th>\n",
       "      <td>2018</td>\n",
       "      <td>7.555</td>\n",
       "    </tr>\n",
       "    <tr>\n",
       "      <th>1</th>\n",
       "      <td>2019</td>\n",
       "      <td>7.600</td>\n",
       "    </tr>\n",
       "  </tbody>\n",
       "</table>\n",
       "</div>"
      ],
      "text/plain": [
       "   Year  Denmark Happiness\n",
       "2  2015              7.527\n",
       "0  2016              7.526\n",
       "1  2017              7.522\n",
       "2  2018              7.555\n",
       "1  2019              7.600"
      ]
     },
     "execution_count": 20,
     "metadata": {},
     "output_type": "execute_result"
    }
   ],
   "source": [
    "# locate only south sudan values, include year and happiness\n",
    "# Denmark has the highest average happiness score over the last 5 years\n",
    "happyden=happy.loc[happy.Country=='Denmark', :]\n",
    "happydenmark=pd.DataFrame()\n",
    "happydenmark['Year']=happyden['year']\n",
    "happydenmark['Denmark Happiness']=happyden['Happiness Score']\n",
    "happydenmark.head()"
   ]
  },
  {
   "cell_type": "code",
   "execution_count": 21,
   "metadata": {},
   "outputs": [
    {
     "data": {
      "text/html": [
       "<div>\n",
       "<style scoped>\n",
       "    .dataframe tbody tr th:only-of-type {\n",
       "        vertical-align: middle;\n",
       "    }\n",
       "\n",
       "    .dataframe tbody tr th {\n",
       "        vertical-align: top;\n",
       "    }\n",
       "\n",
       "    .dataframe thead th {\n",
       "        text-align: right;\n",
       "    }\n",
       "</style>\n",
       "<table border=\"1\" class=\"dataframe\">\n",
       "  <thead>\n",
       "    <tr style=\"text-align: right;\">\n",
       "      <th></th>\n",
       "      <th>Denmark Happiness</th>\n",
       "      <th>USA Happiness</th>\n",
       "      <th>Global Happiness</th>\n",
       "      <th>Burundi Happiness</th>\n",
       "    </tr>\n",
       "    <tr>\n",
       "      <th>Year</th>\n",
       "      <th></th>\n",
       "      <th></th>\n",
       "      <th></th>\n",
       "      <th></th>\n",
       "    </tr>\n",
       "  </thead>\n",
       "  <tbody>\n",
       "    <tr>\n",
       "      <th>2015</th>\n",
       "      <td>7.527</td>\n",
       "      <td>7.119</td>\n",
       "      <td>5.375734</td>\n",
       "      <td>2.905</td>\n",
       "    </tr>\n",
       "    <tr>\n",
       "      <th>2016</th>\n",
       "      <td>7.526</td>\n",
       "      <td>7.104</td>\n",
       "      <td>5.382185</td>\n",
       "      <td>2.905</td>\n",
       "    </tr>\n",
       "    <tr>\n",
       "      <th>2017</th>\n",
       "      <td>7.522</td>\n",
       "      <td>6.993</td>\n",
       "      <td>5.354019</td>\n",
       "      <td>2.905</td>\n",
       "    </tr>\n",
       "    <tr>\n",
       "      <th>2018</th>\n",
       "      <td>7.555</td>\n",
       "      <td>6.886</td>\n",
       "      <td>5.375917</td>\n",
       "      <td>2.905</td>\n",
       "    </tr>\n",
       "    <tr>\n",
       "      <th>2019</th>\n",
       "      <td>7.600</td>\n",
       "      <td>6.892</td>\n",
       "      <td>5.407096</td>\n",
       "      <td>3.775</td>\n",
       "    </tr>\n",
       "  </tbody>\n",
       "</table>\n",
       "</div>"
      ],
      "text/plain": [
       "      Denmark Happiness  USA Happiness  Global Happiness  Burundi Happiness\n",
       "Year                                                                       \n",
       "2015              7.527          7.119          5.375734              2.905\n",
       "2016              7.526          7.104          5.382185              2.905\n",
       "2017              7.522          6.993          5.354019              2.905\n",
       "2018              7.555          6.886          5.375917              2.905\n",
       "2019              7.600          6.892          5.407096              3.775"
      ]
     },
     "execution_count": 21,
     "metadata": {},
     "output_type": "execute_result"
    }
   ],
   "source": [
    "# Group each country by year and combine average yearly values into one table\n",
    "happyglobalc=happydenmark.groupby('Year').mean()\n",
    "happyusacompare=happyus.groupby('year').mean()\n",
    "happyburundicompare=happyburundi.groupby('Year').mean()\n",
    "avgglobalcompare=pd.DataFrame(happyglobalc)\n",
    "avgglobalcompare['USA Happiness']=happyusacompare['Happiness Score']\n",
    "avgglobalcompare['Global Happiness']=happyavgcompare['HappyScore']\n",
    "avgglobalcompare['Burundi Happiness']=happyburundicompare['Burundi Happiness']\n",
    "avgglobalcompare.head()                                           "
   ]
  },
  {
   "cell_type": "code",
   "execution_count": 22,
   "metadata": {},
   "outputs": [
    {
     "data": {
      "text/plain": [
       "Text(0, 0.5, 'Happiness Score')"
      ]
     },
     "execution_count": 22,
     "metadata": {},
     "output_type": "execute_result"
    },
    {
     "data": {
      "image/png": "[encoded data removed]",
      "text/plain": [
       "<Figure size 576x432 with 1 Axes>"
      ]
     },
     "metadata": {
      "needs_background": "light"
     },
     "output_type": "display_data"
    }
   ],
   "source": [
    "# set parameters and labels\n",
    "plt.figure(figsize=(8,6))\n",
    "ax1=plt.subplot(1,1,1)\n",
    "worldwidegraph=avgglobalcompare.plot.line(ylim=(2.5,8), ax=ax1)\n",
    "worldwidegraph.set_title('Happiness Over Time')\n",
    "worldwidegraph.set_ylabel('Happiness Score')"
   ]
  },
  {
   "cell_type": "code",
   "execution_count": 23,
   "metadata": {},
   "outputs": [
    {
     "data": {
      "text/html": [
       "<div>\n",
       "<style scoped>\n",
       "    .dataframe tbody tr th:only-of-type {\n",
       "        vertical-align: middle;\n",
       "    }\n",
       "\n",
       "    .dataframe tbody tr th {\n",
       "        vertical-align: top;\n",
       "    }\n",
       "\n",
       "    .dataframe thead th {\n",
       "        text-align: right;\n",
       "    }\n",
       "</style>\n",
       "<table border=\"1\" class=\"dataframe\">\n",
       "  <thead>\n",
       "    <tr style=\"text-align: right;\">\n",
       "      <th></th>\n",
       "      <th>Rank</th>\n",
       "      <th>Happiness Score</th>\n",
       "      <th>GDP per capita</th>\n",
       "      <th>Social Support</th>\n",
       "      <th>Healthy life expectancy</th>\n",
       "      <th>Freedom</th>\n",
       "      <th>Generosity</th>\n",
       "      <th>Corruption</th>\n",
       "    </tr>\n",
       "    <tr>\n",
       "      <th>Country</th>\n",
       "      <th></th>\n",
       "      <th></th>\n",
       "      <th></th>\n",
       "      <th></th>\n",
       "      <th></th>\n",
       "      <th></th>\n",
       "      <th></th>\n",
       "      <th></th>\n",
       "    </tr>\n",
       "  </thead>\n",
       "  <tbody>\n",
       "    <tr>\n",
       "      <th>Burundi</th>\n",
       "      <td>153.80</td>\n",
       "      <td>3.07900</td>\n",
       "      <td>0.062447</td>\n",
       "      <td>0.470817</td>\n",
       "      <td>0.211608</td>\n",
       "      <td>0.101320</td>\n",
       "      <td>0.185921</td>\n",
       "      <td>0.106992</td>\n",
       "    </tr>\n",
       "    <tr>\n",
       "      <th>Central African Republic</th>\n",
       "      <td>153.25</td>\n",
       "      <td>3.13425</td>\n",
       "      <td>0.032125</td>\n",
       "      <td>0.000000</td>\n",
       "      <td>0.050191</td>\n",
       "      <td>0.322408</td>\n",
       "      <td>0.243057</td>\n",
       "      <td>0.053114</td>\n",
       "    </tr>\n",
       "    <tr>\n",
       "      <th>Syria</th>\n",
       "      <td>152.60</td>\n",
       "      <td>3.29220</td>\n",
       "      <td>0.699109</td>\n",
       "      <td>0.355931</td>\n",
       "      <td>0.566281</td>\n",
       "      <td>0.081700</td>\n",
       "      <td>0.431285</td>\n",
       "      <td>0.159547</td>\n",
       "    </tr>\n",
       "    <tr>\n",
       "      <th>South Sudan</th>\n",
       "      <td>150.00</td>\n",
       "      <td>3.38250</td>\n",
       "      <td>0.358547</td>\n",
       "      <td>0.492378</td>\n",
       "      <td>0.198324</td>\n",
       "      <td>0.116421</td>\n",
       "      <td>0.242665</td>\n",
       "      <td>0.110986</td>\n",
       "    </tr>\n",
       "    <tr>\n",
       "      <th>Rwanda</th>\n",
       "      <td>152.00</td>\n",
       "      <td>3.43860</td>\n",
       "      <td>0.322057</td>\n",
       "      <td>0.788453</td>\n",
       "      <td>0.417543</td>\n",
       "      <td>0.581611</td>\n",
       "      <td>0.226311</td>\n",
       "      <td>0.473468</td>\n",
       "    </tr>\n",
       "    <tr>\n",
       "      <th>...</th>\n",
       "      <td>...</td>\n",
       "      <td>...</td>\n",
       "      <td>...</td>\n",
       "      <td>...</td>\n",
       "      <td>...</td>\n",
       "      <td>...</td>\n",
       "      <td>...</td>\n",
       "      <td>...</td>\n",
       "    </tr>\n",
       "    <tr>\n",
       "      <th>Iceland</th>\n",
       "      <td>3.20</td>\n",
       "      <td>7.51100</td>\n",
       "      <td>1.386523</td>\n",
       "      <td>1.492813</td>\n",
       "      <td>0.917744</td>\n",
       "      <td>0.618035</td>\n",
       "      <td>0.419124</td>\n",
       "      <td>0.140145</td>\n",
       "    </tr>\n",
       "    <tr>\n",
       "      <th>Switzerland</th>\n",
       "      <td>3.60</td>\n",
       "      <td>7.51140</td>\n",
       "      <td>1.472164</td>\n",
       "      <td>1.417332</td>\n",
       "      <td>0.928318</td>\n",
       "      <td>0.620642</td>\n",
       "      <td>0.277432</td>\n",
       "      <td>0.379763</td>\n",
       "    </tr>\n",
       "    <tr>\n",
       "      <th>Finland</th>\n",
       "      <td>3.60</td>\n",
       "      <td>7.53780</td>\n",
       "      <td>1.356960</td>\n",
       "      <td>1.434429</td>\n",
       "      <td>0.873836</td>\n",
       "      <td>0.621536</td>\n",
       "      <td>0.217783</td>\n",
       "      <td>0.398474</td>\n",
       "    </tr>\n",
       "    <tr>\n",
       "      <th>Norway</th>\n",
       "      <td>2.80</td>\n",
       "      <td>7.54100</td>\n",
       "      <td>1.519381</td>\n",
       "      <td>1.431075</td>\n",
       "      <td>0.873333</td>\n",
       "      <td>0.638049</td>\n",
       "      <td>0.328990</td>\n",
       "      <td>0.343951</td>\n",
       "    </tr>\n",
       "    <tr>\n",
       "      <th>Denmark</th>\n",
       "      <td>2.20</td>\n",
       "      <td>7.54600</td>\n",
       "      <td>1.396729</td>\n",
       "      <td>1.447688</td>\n",
       "      <td>0.865249</td>\n",
       "      <td>0.625959</td>\n",
       "      <td>0.318876</td>\n",
       "      <td>0.429374</td>\n",
       "    </tr>\n",
       "  </tbody>\n",
       "</table>\n",
       "<p>170 rows × 8 columns</p>\n",
       "</div>"
      ],
      "text/plain": [
       "                            Rank  Happiness Score  GDP per capita  \\\n",
       "Country                                                             \n",
       "Burundi                   153.80          3.07900        0.062447   \n",
       "Central African Republic  153.25          3.13425        0.032125   \n",
       "Syria                     152.60          3.29220        0.699109   \n",
       "South Sudan               150.00          3.38250        0.358547   \n",
       "Rwanda                    152.00          3.43860        0.322057   \n",
       "...                          ...              ...             ...   \n",
       "Iceland                     3.20          7.51100        1.386523   \n",
       "Switzerland                 3.60          7.51140        1.472164   \n",
       "Finland                     3.60          7.53780        1.356960   \n",
       "Norway                      2.80          7.54100        1.519381   \n",
       "Denmark                     2.20          7.54600        1.396729   \n",
       "\n",
       "                          Social Support  Healthy life expectancy   Freedom  \\\n",
       "Country                                                                       \n",
       "Burundi                         0.470817                 0.211608  0.101320   \n",
       "Central African Republic        0.000000                 0.050191  0.322408   \n",
       "Syria                           0.355931                 0.566281  0.081700   \n",
       "South Sudan                     0.492378                 0.198324  0.116421   \n",
       "Rwanda                          0.788453                 0.417543  0.581611   \n",
       "...                                  ...                      ...       ...   \n",
       "Iceland                         1.492813                 0.917744  0.618035   \n",
       "Switzerland                     1.417332                 0.928318  0.620642   \n",
       "Finland                         1.434429                 0.873836  0.621536   \n",
       "Norway                          1.431075                 0.873333  0.638049   \n",
       "Denmark                         1.447688                 0.865249  0.625959   \n",
       "\n",
       "                          Generosity  Corruption  \n",
       "Country                                           \n",
       "Burundi                     0.185921    0.106992  \n",
       "Central African Republic    0.243057    0.053114  \n",
       "Syria                       0.431285    0.159547  \n",
       "South Sudan                 0.242665    0.110986  \n",
       "Rwanda                      0.226311    0.473468  \n",
       "...                              ...         ...  \n",
       "Iceland                     0.419124    0.140145  \n",
       "Switzerland                 0.277432    0.379763  \n",
       "Finland                     0.217783    0.398474  \n",
       "Norway                      0.328990    0.343951  \n",
       "Denmark                     0.318876    0.429374  \n",
       "\n",
       "[170 rows x 8 columns]"
      ]
     },
     "execution_count": 23,
     "metadata": {},
     "output_type": "execute_result"
    }
   ],
   "source": [
    "# Group all countries for average values within all columns\n",
    "ga=happy.groupby('Country').mean()\n",
    "ga.sort_values('Happiness Score')"
   ]
  },
  {
   "cell_type": "code",
   "execution_count": 24,
   "metadata": {},
   "outputs": [
    {
     "data": {
      "text/plain": [
       "Text(0.5, 1.0, 'GDP vs Social Support (size of bubble is generosity)')"
      ]
     },
     "execution_count": 24,
     "metadata": {},
     "output_type": "execute_result"
    },
    {
     "data": {
      "image/png": "[encoded data removed]",
      "text/plain": [
       "<Figure size 576x432 with 1 Axes>"
      ]
     },
     "metadata": {
      "needs_background": "light"
     },
     "output_type": "display_data"
    }
   ],
   "source": [
    "# create bubble chart showing GDP, Social Support, and Generosity\n",
    "plt.figure(figsize=(8,6))\n",
    "ax1=plt.subplot(1,1,1)\n",
    "globalbubble=ga.plot.scatter('GDP per capita','Social Support', s=ga['Generosity']*100, ax=ax1)\n",
    "globalbubble.set_title('GDP vs Social Support (size of bubble is generosity)')"
   ]
  },
  {
   "cell_type": "code",
   "execution_count": 25,
   "metadata": {},
   "outputs": [
    {
     "data": {
      "text/plain": [
       "Text(0, 0.5, 'Happiness Score')"
      ]
     },
     "execution_count": 25,
     "metadata": {},
     "output_type": "execute_result"
    },
    {
     "data": {
      "image/png": "[encoded data removed]",
      "text/plain": [
       "<Figure size 432x288 with 1 Axes>"
      ]
     },
     "metadata": {
      "needs_background": "light"
     },
     "output_type": "display_data"
    }
   ],
   "source": [
    "# create box and whisker plot to show average happiness scores within quartiles\n",
    "gabox=ga.boxplot('Happiness Score')\n",
    "gabox.set_title('Average Happiness Scores')\n",
    "gabox.set_ylim(3,8)\n",
    "gabox.set_ylabel('Happiness Score')"
   ]
  },
  {
   "cell_type": "code",
   "execution_count": 29,
   "metadata": {},
   "outputs": [
    {
     "data": {
      "text/html": [
       "<div>\n",
       "<style scoped>\n",
       "    .dataframe tbody tr th:only-of-type {\n",
       "        vertical-align: middle;\n",
       "    }\n",
       "\n",
       "    .dataframe tbody tr th {\n",
       "        vertical-align: top;\n",
       "    }\n",
       "\n",
       "    .dataframe thead th {\n",
       "        text-align: right;\n",
       "    }\n",
       "</style>\n",
       "<table border=\"1\" class=\"dataframe\">\n",
       "  <thead>\n",
       "    <tr style=\"text-align: right;\">\n",
       "      <th></th>\n",
       "      <th>Rank</th>\n",
       "      <th>Happiness Score</th>\n",
       "      <th>GDP per capita</th>\n",
       "      <th>Social Support</th>\n",
       "      <th>Healthy life expectancy</th>\n",
       "      <th>Freedom</th>\n",
       "      <th>Generosity</th>\n",
       "      <th>Corruption</th>\n",
       "    </tr>\n",
       "  </thead>\n",
       "  <tbody>\n",
       "    <tr>\n",
       "      <th>count</th>\n",
       "      <td>170.000000</td>\n",
       "      <td>170.000000</td>\n",
       "      <td>170.000000</td>\n",
       "      <td>170.000000</td>\n",
       "      <td>170.000000</td>\n",
       "      <td>170.000000</td>\n",
       "      <td>170.000000</td>\n",
       "      <td>170.000000</td>\n",
       "    </tr>\n",
       "    <tr>\n",
       "      <th>mean</th>\n",
       "      <td>78.665000</td>\n",
       "      <td>5.380388</td>\n",
       "      <td>0.912901</td>\n",
       "      <td>1.074248</td>\n",
       "      <td>0.608636</td>\n",
       "      <td>0.412549</td>\n",
       "      <td>0.221652</td>\n",
       "      <td>0.129571</td>\n",
       "    </tr>\n",
       "    <tr>\n",
       "      <th>std</th>\n",
       "      <td>44.188006</td>\n",
       "      <td>1.099061</td>\n",
       "      <td>0.411169</td>\n",
       "      <td>0.278893</td>\n",
       "      <td>0.242023</td>\n",
       "      <td>0.143161</td>\n",
       "      <td>0.115535</td>\n",
       "      <td>0.104323</td>\n",
       "    </tr>\n",
       "    <tr>\n",
       "      <th>min</th>\n",
       "      <td>2.200000</td>\n",
       "      <td>3.079000</td>\n",
       "      <td>0.005661</td>\n",
       "      <td>0.000000</td>\n",
       "      <td>0.037830</td>\n",
       "      <td>0.027433</td>\n",
       "      <td>0.000000</td>\n",
       "      <td>0.001654</td>\n",
       "    </tr>\n",
       "    <tr>\n",
       "      <th>25%</th>\n",
       "      <td>40.850000</td>\n",
       "      <td>4.466050</td>\n",
       "      <td>0.579838</td>\n",
       "      <td>0.938526</td>\n",
       "      <td>0.424205</td>\n",
       "      <td>0.322620</td>\n",
       "      <td>0.137867</td>\n",
       "      <td>0.059796</td>\n",
       "    </tr>\n",
       "    <tr>\n",
       "      <th>50%</th>\n",
       "      <td>79.600000</td>\n",
       "      <td>5.334300</td>\n",
       "      <td>0.986673</td>\n",
       "      <td>1.106597</td>\n",
       "      <td>0.665635</td>\n",
       "      <td>0.432305</td>\n",
       "      <td>0.208368</td>\n",
       "      <td>0.097550</td>\n",
       "    </tr>\n",
       "    <tr>\n",
       "      <th>75%</th>\n",
       "      <td>120.300000</td>\n",
       "      <td>6.163150</td>\n",
       "      <td>1.243963</td>\n",
       "      <td>1.309893</td>\n",
       "      <td>0.781592</td>\n",
       "      <td>0.510057</td>\n",
       "      <td>0.279125</td>\n",
       "      <td>0.159161</td>\n",
       "    </tr>\n",
       "    <tr>\n",
       "      <th>max</th>\n",
       "      <td>153.800000</td>\n",
       "      <td>7.546000</td>\n",
       "      <td>1.743691</td>\n",
       "      <td>1.492813</td>\n",
       "      <td>1.029513</td>\n",
       "      <td>0.655988</td>\n",
       "      <td>0.723533</td>\n",
       "      <td>0.473468</td>\n",
       "    </tr>\n",
       "  </tbody>\n",
       "</table>\n",
       "</div>"
      ],
      "text/plain": [
       "             Rank  Happiness Score  GDP per capita  Social Support  \\\n",
       "count  170.000000       170.000000      170.000000      170.000000   \n",
       "mean    78.665000         5.380388        0.912901        1.074248   \n",
       "std     44.188006         1.099061        0.411169        0.278893   \n",
       "min      2.200000         3.079000        0.005661        0.000000   \n",
       "25%     40.850000         4.466050        0.579838        0.938526   \n",
       "50%     79.600000         5.334300        0.986673        1.106597   \n",
       "75%    120.300000         6.163150        1.243963        1.309893   \n",
       "max    153.800000         7.546000        1.743691        1.492813   \n",
       "\n",
       "       Healthy life expectancy     Freedom  Generosity  Corruption  \n",
       "count               170.000000  170.000000  170.000000  170.000000  \n",
       "mean                  0.608636    0.412549    0.221652    0.129571  \n",
       "std                   0.242023    0.143161    0.115535    0.104323  \n",
       "min                   0.037830    0.027433    0.000000    0.001654  \n",
       "25%                   0.424205    0.322620    0.137867    0.059796  \n",
       "50%                   0.665635    0.432305    0.208368    0.097550  \n",
       "75%                   0.781592    0.510057    0.279125    0.159161  \n",
       "max                   1.029513    0.655988    0.723533    0.473468  "
      ]
     },
     "execution_count": 29,
     "metadata": {},
     "output_type": "execute_result"
    }
   ],
   "source": []
  },
  {
   "cell_type": "code",
   "execution_count": null,
   "metadata": {},
   "outputs": [],
   "source": []
  }
 ],
 "metadata": {
  "kernelspec": {
   "display_name": "Python 3",
   "language": "python",
   "name": "python3"
  },
  "language_info": {
   "codemirror_mode": {
    "name": "ipython",
    "version": 3
   },
   "file_extension": ".py",
   "mimetype": "text/x-python",
   "name": "python",
   "nbconvert_exporter": "python",
   "pygments_lexer": "ipython3",
   "version": "3.7.6"
  }
 },
 "nbformat": 4,
 "nbformat_minor": 4
}
