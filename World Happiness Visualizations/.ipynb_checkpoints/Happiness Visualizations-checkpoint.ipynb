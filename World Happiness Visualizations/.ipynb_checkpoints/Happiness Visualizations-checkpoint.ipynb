{
 "cells": [
  {
   "cell_type": "code",
   "execution_count": 4,
   "metadata": {},
   "outputs": [],
   "source": [
    "import pandas as pd"
   ]
  },
  {
   "cell_type": "code",
   "execution_count": 5,
   "metadata": {},
   "outputs": [],
   "source": [
    "# all years within the excel datahseet\n",
    "years=['2015','2016','2017','2018','2019']"
   ]
  },
  {
   "cell_type": "code",
   "execution_count": 6,
   "metadata": {},
   "outputs": [
    {
     "name": "stdout",
     "output_type": "stream",
     "text": [
      "2015\n",
      "(158, 10)\n",
      "2016\n",
      "(157, 10)\n",
      "2017\n",
      "(155, 10)\n",
      "2018\n",
      "(156, 10)\n",
      "2019\n",
      "(156, 10)\n"
     ]
    }
   ],
   "source": [
    "# create an empty dataframe to store the happy data\n",
    "happy=pd.DataFrame()\n",
    "\n",
    "# loop through to find the years and concatanate\n",
    "for year in years:\n",
    "    print(year)\n",
    "    data=pd.read_excel('WorldHappiness.xls',year)\n",
    "    data['year']=year\n",
    "    print(data.shape)\n",
    "    happy=pd.concat([happy,data])"
   ]
  },
  {
   "cell_type": "code",
   "execution_count": 7,
   "metadata": {},
   "outputs": [
    {
     "data": {
      "text/plain": [
       "(782, 10)"
      ]
     },
     "execution_count": 7,
     "metadata": {},
     "output_type": "execute_result"
    }
   ],
   "source": [
    "happy.shape"
   ]
  },
  {
   "cell_type": "code",
   "execution_count": 8,
   "metadata": {},
   "outputs": [
    {
     "data": {
      "text/html": [
       "<div>\n",
       "<style scoped>\n",
       "    .dataframe tbody tr th:only-of-type {\n",
       "        vertical-align: middle;\n",
       "    }\n",
       "\n",
       "    .dataframe tbody tr th {\n",
       "        vertical-align: top;\n",
       "    }\n",
       "\n",
       "    .dataframe thead th {\n",
       "        text-align: right;\n",
       "    }\n",
       "</style>\n",
       "<table border=\"1\" class=\"dataframe\">\n",
       "  <thead>\n",
       "    <tr style=\"text-align: right;\">\n",
       "      <th></th>\n",
       "      <th>Rank</th>\n",
       "      <th>Country</th>\n",
       "      <th>Happiness Score</th>\n",
       "      <th>GDP per capita</th>\n",
       "      <th>Social Support</th>\n",
       "      <th>Healthy life expectancy</th>\n",
       "      <th>Freedom</th>\n",
       "      <th>Generosity</th>\n",
       "      <th>Corruption</th>\n",
       "      <th>year</th>\n",
       "    </tr>\n",
       "  </thead>\n",
       "  <tbody>\n",
       "    <tr>\n",
       "      <th>0</th>\n",
       "      <td>1</td>\n",
       "      <td>Switzerland</td>\n",
       "      <td>7.587</td>\n",
       "      <td>1.39651</td>\n",
       "      <td>1.34951</td>\n",
       "      <td>0.94143</td>\n",
       "      <td>0.66557</td>\n",
       "      <td>0.29678</td>\n",
       "      <td>0.41978</td>\n",
       "      <td>2015</td>\n",
       "    </tr>\n",
       "    <tr>\n",
       "      <th>1</th>\n",
       "      <td>2</td>\n",
       "      <td>Iceland</td>\n",
       "      <td>7.561</td>\n",
       "      <td>1.30232</td>\n",
       "      <td>1.40223</td>\n",
       "      <td>0.94784</td>\n",
       "      <td>0.62877</td>\n",
       "      <td>0.43630</td>\n",
       "      <td>0.14145</td>\n",
       "      <td>2015</td>\n",
       "    </tr>\n",
       "    <tr>\n",
       "      <th>2</th>\n",
       "      <td>3</td>\n",
       "      <td>Denmark</td>\n",
       "      <td>7.527</td>\n",
       "      <td>1.32548</td>\n",
       "      <td>1.36058</td>\n",
       "      <td>0.87464</td>\n",
       "      <td>0.64938</td>\n",
       "      <td>0.34139</td>\n",
       "      <td>0.48357</td>\n",
       "      <td>2015</td>\n",
       "    </tr>\n",
       "    <tr>\n",
       "      <th>3</th>\n",
       "      <td>4</td>\n",
       "      <td>Norway</td>\n",
       "      <td>7.522</td>\n",
       "      <td>1.45900</td>\n",
       "      <td>1.33095</td>\n",
       "      <td>0.88521</td>\n",
       "      <td>0.66973</td>\n",
       "      <td>0.34699</td>\n",
       "      <td>0.36503</td>\n",
       "      <td>2015</td>\n",
       "    </tr>\n",
       "    <tr>\n",
       "      <th>4</th>\n",
       "      <td>5</td>\n",
       "      <td>Canada</td>\n",
       "      <td>7.427</td>\n",
       "      <td>1.32629</td>\n",
       "      <td>1.32261</td>\n",
       "      <td>0.90563</td>\n",
       "      <td>0.63297</td>\n",
       "      <td>0.45811</td>\n",
       "      <td>0.32957</td>\n",
       "      <td>2015</td>\n",
       "    </tr>\n",
       "  </tbody>\n",
       "</table>\n",
       "</div>"
      ],
      "text/plain": [
       "   Rank      Country  Happiness Score  GDP per capita  Social Support  \\\n",
       "0     1  Switzerland            7.587         1.39651         1.34951   \n",
       "1     2      Iceland            7.561         1.30232         1.40223   \n",
       "2     3      Denmark            7.527         1.32548         1.36058   \n",
       "3     4       Norway            7.522         1.45900         1.33095   \n",
       "4     5       Canada            7.427         1.32629         1.32261   \n",
       "\n",
       "   Healthy life expectancy  Freedom  Generosity  Corruption  year  \n",
       "0                  0.94143  0.66557     0.29678     0.41978  2015  \n",
       "1                  0.94784  0.62877     0.43630     0.14145  2015  \n",
       "2                  0.87464  0.64938     0.34139     0.48357  2015  \n",
       "3                  0.88521  0.66973     0.34699     0.36503  2015  \n",
       "4                  0.90563  0.63297     0.45811     0.32957  2015  "
      ]
     },
     "execution_count": 8,
     "metadata": {},
     "output_type": "execute_result"
    }
   ],
   "source": [
    "happy.head()"
   ]
  },
  {
   "cell_type": "code",
   "execution_count": 9,
   "metadata": {},
   "outputs": [],
   "source": [
    "# create new dataframe with selected collumns\n",
    "happyscore=pd.DataFrame()\n",
    "happyscore['year']=happy['year']\n",
    "happyscore['country']=happy['Country']\n",
    "happyscore['score']=happy['Happiness Score']\n",
    "happyscore['GDP']=happy['GDP per capita']"
   ]
  },
  {
   "cell_type": "code",
   "execution_count": 10,
   "metadata": {},
   "outputs": [
    {
     "data": {
      "text/html": [
       "<div>\n",
       "<style scoped>\n",
       "    .dataframe tbody tr th:only-of-type {\n",
       "        vertical-align: middle;\n",
       "    }\n",
       "\n",
       "    .dataframe tbody tr th {\n",
       "        vertical-align: top;\n",
       "    }\n",
       "\n",
       "    .dataframe thead th {\n",
       "        text-align: right;\n",
       "    }\n",
       "</style>\n",
       "<table border=\"1\" class=\"dataframe\">\n",
       "  <thead>\n",
       "    <tr style=\"text-align: right;\">\n",
       "      <th></th>\n",
       "      <th>year</th>\n",
       "      <th>country</th>\n",
       "      <th>score</th>\n",
       "      <th>GDP</th>\n",
       "    </tr>\n",
       "  </thead>\n",
       "  <tbody>\n",
       "    <tr>\n",
       "      <th>0</th>\n",
       "      <td>2015</td>\n",
       "      <td>Switzerland</td>\n",
       "      <td>7.587</td>\n",
       "      <td>1.39651</td>\n",
       "    </tr>\n",
       "    <tr>\n",
       "      <th>1</th>\n",
       "      <td>2015</td>\n",
       "      <td>Iceland</td>\n",
       "      <td>7.561</td>\n",
       "      <td>1.30232</td>\n",
       "    </tr>\n",
       "    <tr>\n",
       "      <th>2</th>\n",
       "      <td>2015</td>\n",
       "      <td>Denmark</td>\n",
       "      <td>7.527</td>\n",
       "      <td>1.32548</td>\n",
       "    </tr>\n",
       "    <tr>\n",
       "      <th>3</th>\n",
       "      <td>2015</td>\n",
       "      <td>Norway</td>\n",
       "      <td>7.522</td>\n",
       "      <td>1.45900</td>\n",
       "    </tr>\n",
       "    <tr>\n",
       "      <th>4</th>\n",
       "      <td>2015</td>\n",
       "      <td>Canada</td>\n",
       "      <td>7.427</td>\n",
       "      <td>1.32629</td>\n",
       "    </tr>\n",
       "  </tbody>\n",
       "</table>\n",
       "</div>"
      ],
      "text/plain": [
       "   year      country  score      GDP\n",
       "0  2015  Switzerland  7.587  1.39651\n",
       "1  2015      Iceland  7.561  1.30232\n",
       "2  2015      Denmark  7.527  1.32548\n",
       "3  2015       Norway  7.522  1.45900\n",
       "4  2015       Canada  7.427  1.32629"
      ]
     },
     "execution_count": 10,
     "metadata": {},
     "output_type": "execute_result"
    }
   ],
   "source": [
    "happyscore.head()"
   ]
  },
  {
   "cell_type": "code",
   "execution_count": 20,
   "metadata": {},
   "outputs": [
    {
     "data": {
      "text/plain": [
       "Text(0.5, 1.0, 'Happiness Score vs Healthy Life Expectency')"
      ]
     },
     "execution_count": 20,
     "metadata": {},
     "output_type": "execute_result"
    },
    {
     "data": {
      "image/png": "[encoded data removed]",
      "text/plain": [
       "<Figure size 432x288 with 1 Axes>"
      ]
     },
     "metadata": {
      "needs_background": "light"
     },
     "output_type": "display_data"
    },
    {
     "data": {
      "image/png": "[encoded data removed]",
      "text/plain": [
       "<Figure size 432x288 with 1 Axes>"
      ]
     },
     "metadata": {
      "needs_background": "light"
     },
     "output_type": "display_data"
    }
   ],
   "source": [
    "# generate scatter plot comapring happiness score and gdp per capita\n",
    "gdpaxes=happyscore.plot.scatter('score','GDP')\n",
    "gdpaxes.set_title(\"Happiness Score vs GDP Per Capita\")\n",
    "gdpaxes.set_xlabel('Happiness Score')\n",
    "gdpaxes.set_ylabel('GDP Per Capita')\n",
    "\n",
    "lifeaxes=happy.plot.scatter('Happiness Score','Healthy life expectancy')\n",
    "lifeaxes.set_title('Happiness Score vs Healthy Life Expectency')\n"
   ]
  },
  {
   "cell_type": "code",
   "execution_count": 12,
   "metadata": {},
   "outputs": [
    {
     "data": {
      "text/html": [
       "<div>\n",
       "<style scoped>\n",
       "    .dataframe tbody tr th:only-of-type {\n",
       "        vertical-align: middle;\n",
       "    }\n",
       "\n",
       "    .dataframe tbody tr th {\n",
       "        vertical-align: top;\n",
       "    }\n",
       "\n",
       "    .dataframe thead th {\n",
       "        text-align: right;\n",
       "    }\n",
       "</style>\n",
       "<table border=\"1\" class=\"dataframe\">\n",
       "  <thead>\n",
       "    <tr style=\"text-align: right;\">\n",
       "      <th></th>\n",
       "      <th>Rank</th>\n",
       "      <th>Country</th>\n",
       "      <th>Happiness Score</th>\n",
       "      <th>GDP per capita</th>\n",
       "      <th>Social Support</th>\n",
       "      <th>Healthy life expectancy</th>\n",
       "      <th>Freedom</th>\n",
       "      <th>Generosity</th>\n",
       "      <th>Corruption</th>\n",
       "      <th>year</th>\n",
       "    </tr>\n",
       "  </thead>\n",
       "  <tbody>\n",
       "    <tr>\n",
       "      <th>14</th>\n",
       "      <td>15</td>\n",
       "      <td>United States</td>\n",
       "      <td>7.119</td>\n",
       "      <td>1.394510</td>\n",
       "      <td>1.247110</td>\n",
       "      <td>0.861790</td>\n",
       "      <td>0.546040</td>\n",
       "      <td>0.401050</td>\n",
       "      <td>0.158900</td>\n",
       "      <td>2015</td>\n",
       "    </tr>\n",
       "    <tr>\n",
       "      <th>12</th>\n",
       "      <td>13</td>\n",
       "      <td>United States</td>\n",
       "      <td>7.104</td>\n",
       "      <td>1.507960</td>\n",
       "      <td>1.047820</td>\n",
       "      <td>0.779000</td>\n",
       "      <td>0.481630</td>\n",
       "      <td>0.410770</td>\n",
       "      <td>0.148680</td>\n",
       "      <td>2016</td>\n",
       "    </tr>\n",
       "    <tr>\n",
       "      <th>13</th>\n",
       "      <td>14</td>\n",
       "      <td>United States</td>\n",
       "      <td>6.993</td>\n",
       "      <td>1.546259</td>\n",
       "      <td>1.419921</td>\n",
       "      <td>0.774287</td>\n",
       "      <td>0.505741</td>\n",
       "      <td>0.392579</td>\n",
       "      <td>0.135639</td>\n",
       "      <td>2017</td>\n",
       "    </tr>\n",
       "    <tr>\n",
       "      <th>17</th>\n",
       "      <td>18</td>\n",
       "      <td>United States</td>\n",
       "      <td>6.886</td>\n",
       "      <td>1.398000</td>\n",
       "      <td>1.471000</td>\n",
       "      <td>0.819000</td>\n",
       "      <td>0.547000</td>\n",
       "      <td>0.291000</td>\n",
       "      <td>0.133000</td>\n",
       "      <td>2018</td>\n",
       "    </tr>\n",
       "    <tr>\n",
       "      <th>18</th>\n",
       "      <td>19</td>\n",
       "      <td>United States</td>\n",
       "      <td>6.892</td>\n",
       "      <td>1.433000</td>\n",
       "      <td>1.457000</td>\n",
       "      <td>0.874000</td>\n",
       "      <td>0.454000</td>\n",
       "      <td>0.280000</td>\n",
       "      <td>0.128000</td>\n",
       "      <td>2019</td>\n",
       "    </tr>\n",
       "  </tbody>\n",
       "</table>\n",
       "</div>"
      ],
      "text/plain": [
       "    Rank        Country  Happiness Score  GDP per capita  Social Support  \\\n",
       "14    15  United States            7.119        1.394510        1.247110   \n",
       "12    13  United States            7.104        1.507960        1.047820   \n",
       "13    14  United States            6.993        1.546259        1.419921   \n",
       "17    18  United States            6.886        1.398000        1.471000   \n",
       "18    19  United States            6.892        1.433000        1.457000   \n",
       "\n",
       "    Healthy life expectancy   Freedom  Generosity  Corruption  year  \n",
       "14                 0.861790  0.546040    0.401050    0.158900  2015  \n",
       "12                 0.779000  0.481630    0.410770    0.148680  2016  \n",
       "13                 0.774287  0.505741    0.392579    0.135639  2017  \n",
       "17                 0.819000  0.547000    0.291000    0.133000  2018  \n",
       "18                 0.874000  0.454000    0.280000    0.128000  2019  "
      ]
     },
     "execution_count": 12,
     "metadata": {},
     "output_type": "execute_result"
    }
   ],
   "source": [
    "# locate specific country\n",
    "happy[happy.Country=='United States']"
   ]
  },
  {
   "cell_type": "code",
   "execution_count": 13,
   "metadata": {},
   "outputs": [
    {
     "data": {
      "text/html": [
       "<div>\n",
       "<style scoped>\n",
       "    .dataframe tbody tr th:only-of-type {\n",
       "        vertical-align: middle;\n",
       "    }\n",
       "\n",
       "    .dataframe tbody tr th {\n",
       "        vertical-align: top;\n",
       "    }\n",
       "\n",
       "    .dataframe thead th {\n",
       "        text-align: right;\n",
       "    }\n",
       "</style>\n",
       "<table border=\"1\" class=\"dataframe\">\n",
       "  <thead>\n",
       "    <tr style=\"text-align: right;\">\n",
       "      <th></th>\n",
       "      <th>Rank</th>\n",
       "      <th>Country</th>\n",
       "      <th>Happiness Score</th>\n",
       "      <th>GDP per capita</th>\n",
       "      <th>Social Support</th>\n",
       "      <th>Healthy life expectancy</th>\n",
       "      <th>Freedom</th>\n",
       "      <th>Generosity</th>\n",
       "      <th>Corruption</th>\n",
       "      <th>year</th>\n",
       "    </tr>\n",
       "  </thead>\n",
       "  <tbody>\n",
       "    <tr>\n",
       "      <th>14</th>\n",
       "      <td>15</td>\n",
       "      <td>United States</td>\n",
       "      <td>7.119</td>\n",
       "      <td>1.394510</td>\n",
       "      <td>1.247110</td>\n",
       "      <td>0.861790</td>\n",
       "      <td>0.546040</td>\n",
       "      <td>0.401050</td>\n",
       "      <td>0.158900</td>\n",
       "      <td>2015</td>\n",
       "    </tr>\n",
       "    <tr>\n",
       "      <th>12</th>\n",
       "      <td>13</td>\n",
       "      <td>United States</td>\n",
       "      <td>7.104</td>\n",
       "      <td>1.507960</td>\n",
       "      <td>1.047820</td>\n",
       "      <td>0.779000</td>\n",
       "      <td>0.481630</td>\n",
       "      <td>0.410770</td>\n",
       "      <td>0.148680</td>\n",
       "      <td>2016</td>\n",
       "    </tr>\n",
       "    <tr>\n",
       "      <th>13</th>\n",
       "      <td>14</td>\n",
       "      <td>United States</td>\n",
       "      <td>6.993</td>\n",
       "      <td>1.546259</td>\n",
       "      <td>1.419921</td>\n",
       "      <td>0.774287</td>\n",
       "      <td>0.505741</td>\n",
       "      <td>0.392579</td>\n",
       "      <td>0.135639</td>\n",
       "      <td>2017</td>\n",
       "    </tr>\n",
       "    <tr>\n",
       "      <th>17</th>\n",
       "      <td>18</td>\n",
       "      <td>United States</td>\n",
       "      <td>6.886</td>\n",
       "      <td>1.398000</td>\n",
       "      <td>1.471000</td>\n",
       "      <td>0.819000</td>\n",
       "      <td>0.547000</td>\n",
       "      <td>0.291000</td>\n",
       "      <td>0.133000</td>\n",
       "      <td>2018</td>\n",
       "    </tr>\n",
       "    <tr>\n",
       "      <th>18</th>\n",
       "      <td>19</td>\n",
       "      <td>United States</td>\n",
       "      <td>6.892</td>\n",
       "      <td>1.433000</td>\n",
       "      <td>1.457000</td>\n",
       "      <td>0.874000</td>\n",
       "      <td>0.454000</td>\n",
       "      <td>0.280000</td>\n",
       "      <td>0.128000</td>\n",
       "      <td>2019</td>\n",
       "    </tr>\n",
       "  </tbody>\n",
       "</table>\n",
       "</div>"
      ],
      "text/plain": [
       "    Rank        Country  Happiness Score  GDP per capita  Social Support  \\\n",
       "14    15  United States            7.119        1.394510        1.247110   \n",
       "12    13  United States            7.104        1.507960        1.047820   \n",
       "13    14  United States            6.993        1.546259        1.419921   \n",
       "17    18  United States            6.886        1.398000        1.471000   \n",
       "18    19  United States            6.892        1.433000        1.457000   \n",
       "\n",
       "    Healthy life expectancy   Freedom  Generosity  Corruption  year  \n",
       "14                 0.861790  0.546040    0.401050    0.158900  2015  \n",
       "12                 0.779000  0.481630    0.410770    0.148680  2016  \n",
       "13                 0.774287  0.505741    0.392579    0.135639  2017  \n",
       "17                 0.819000  0.547000    0.291000    0.133000  2018  \n",
       "18                 0.874000  0.454000    0.280000    0.128000  2019  "
      ]
     },
     "execution_count": 13,
     "metadata": {},
     "output_type": "execute_result"
    }
   ],
   "source": [
    "# Locate specific country using loc\n",
    "happy.loc[happy.Country=='United States', :]"
   ]
  },
  {
   "cell_type": "code",
   "execution_count": 14,
   "metadata": {},
   "outputs": [
    {
     "data": {
      "text/plain": [
       "Text(0, 0.5, 'Happiness Score')"
      ]
     },
     "execution_count": 14,
     "metadata": {},
     "output_type": "execute_result"
    },
    {
     "data": {
      "image/png": "[encoded data removed]",
      "text/plain": [
       "<Figure size 432x288 with 1 Axes>"
      ]
     },
     "metadata": {
      "needs_background": "light"
     },
     "output_type": "display_data"
    }
   ],
   "source": [
    "happyus=happy.loc[happy.Country=='United States', :]\n",
    "usgraph=happyus.plot.line('year', 'Happiness Score')\n",
    "usgraph.set_title(\"Happiness Score Over Time U.S.A\")\n",
    "usgraph.set_xlabel('Year')\n",
    "usgraph.set_ylabel('Happiness Score')"
   ]
  },
  {
   "cell_type": "code",
   "execution_count": 15,
   "metadata": {},
   "outputs": [
    {
     "data": {
      "text/plain": [
       "<matplotlib.axes._subplots.AxesSubplot at 0x1bde2062648>"
      ]
     },
     "execution_count": 15,
     "metadata": {},
     "output_type": "execute_result"
    },
    {
     "data": {
      "image/png": "[encoded data removed]",
      "text/plain": [
       "<Figure size 432x288 with 1 Axes>"
      ]
     },
     "metadata": {
      "needs_background": "light"
     },
     "output_type": "display_data"
    }
   ],
   "source": [
    "happyus.plot.line('year', 'GDP per capita')"
   ]
  },
  {
   "cell_type": "code",
   "execution_count": 16,
   "metadata": {},
   "outputs": [
    {
     "data": {
      "text/plain": [
       "<matplotlib.axes._subplots.AxesSubplot at 0x1bde20d96c8>"
      ]
     },
     "execution_count": 16,
     "metadata": {},
     "output_type": "execute_result"
    },
    {
     "data": {
      "image/png": "[encoded data removed]",
      "text/plain": [
       "<Figure size 432x288 with 1 Axes>"
      ]
     },
     "metadata": {
      "needs_background": "light"
     },
     "output_type": "display_data"
    }
   ],
   "source": [
    "happyus.plot.line('year', 'Freedom')"
   ]
  },
  {
   "cell_type": "code",
   "execution_count": null,
   "metadata": {},
   "outputs": [],
   "source": []
  },
  {
   "cell_type": "code",
   "execution_count": null,
   "metadata": {},
   "outputs": [],
   "source": []
  }
 ],
 "metadata": {
  "kernelspec": {
   "display_name": "Python 3",
   "language": "python",
   "name": "python3"
  },
  "language_info": {
   "codemirror_mode": {
    "name": "ipython",
    "version": 3
   },
   "file_extension": ".py",
   "mimetype": "text/x-python",
   "name": "python",
   "nbconvert_exporter": "python",
   "pygments_lexer": "ipython3",
   "version": "3.7.6"
  }
 },
 "nbformat": 4,
 "nbformat_minor": 4
}
